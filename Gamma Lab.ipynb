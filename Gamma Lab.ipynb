{
 "cells": [
  {
   "cell_type": "code",
   "execution_count": 1,
   "metadata": {
    "collapsed": false
   },
   "outputs": [
    {
     "name": "stdout",
     "output_type": "stream",
     "text": [
      "Using matplotlib backend: MacOSX\n",
      "Populating the interactive namespace from numpy and matplotlib\n"
     ]
    }
   ],
   "source": [
    "%pylab\n",
    "%matplotlib inline\n",
    "import mesa_reader as mr\n",
    "from scipy import constants\n",
    "import numpy as np\n",
    "from astropy import constants as const\n",
    "from scipy.stats import *\n",
    "import math"
   ]
  },
  {
   "cell_type": "code",
   "execution_count": null,
   "metadata": {
    "collapsed": false
   },
   "outputs": [],
   "source": []
  },
  {
   "cell_type": "code",
   "execution_count": null,
   "metadata": {
    "collapsed": true
   },
   "outputs": [],
   "source": []
  },
  {
   "cell_type": "code",
   "execution_count": 164,
   "metadata": {
    "collapsed": false
   },
   "outputs": [],
   "source": [
    "x = array([20.94,19.27, 17.58, 11.64, 9.97,8.31, 1.73, 0])\n",
    "#x = x[::-1]\n",
    "\n",
    "count_rate_background = log(array([2.21192053, 2.327906977, 2.763085399, 4.726840855, 5.857142857, 6.566666667, 13.51428571,13.67]))\n",
    "\n",
    "count_rate = log(array([1.76, 1.88, 2.31, 4.28, 5.41, 6.12, 12.45, 13.22]))\n",
    "\n",
    "#x = array([22.81, 21.16, 19.07, 12.52, 10.68 ,8.95,2.13,0])\n",
    "#x = x[::-1]\n",
    "\n",
    "#count_rate_err_background = array([0.07, 0.07, 0.09, 0.11, 0.12, 0.13, 0.18, 0.18])\n",
    "\n",
    "count_rate_err = array([0.070, 0.074, 0.087, 0.106, 0.118, 0.125, 0.175, 0.180])\n",
    "\n",
    "#count_rate_err = array([0.005, 0.005, 0.008, 0.011, 0.014, 0.016, 0.031, 0.033])\n",
    "\n",
    "#count_rate_err = array([0.032, 0.032, 0.032, 0.022, 0.02, 0.019, 0.014, 0.013])\n",
    "\n",
    "#print count_rate_err_background \n"
   ]
  },
  {
   "cell_type": "code",
   "execution_count": 169,
   "metadata": {
    "collapsed": false
   },
   "outputs": [
    {
     "name": "stdout",
     "output_type": "stream",
     "text": [
      "0.101636640301\n",
      "2.64767873441\n",
      "0.00249780684962\n"
     ]
    },
    {
     "data": {
      "image/png": "[encoded data removed]",
      "text/plain": [
       "<matplotlib.figure.Figure at 0x11f864e90>"
      ]
     },
     "metadata": {},
     "output_type": "display_data"
    }
   ],
   "source": [
    "xmin=21.7\n",
    "xmax=-.7\n",
    "xlims = np.linspace(xmin,xmax,8)\n",
    "\n",
    "slope, intercept, r_value, p_value, std_err = stats.linregress(x,count_rate)\n",
    "slope = -slope\n",
    "print slope\n",
    "print intercept\n",
    "print std_err\n",
    "\n",
    "#I = .8 * e**(slope * x)\n",
    "\n",
    "#ln_I = intercept + (slope * x)\n",
    "\n",
    "\n",
    "ln_I = (-slope * xlims) + intercept\n",
    "plt.xlim(-.7,21.7)\n",
    "\n",
    "plt.plot(xlims,ln_I,'--', label = \"Best Fit\",color = \"b\", zorder=1)\n",
    "\n",
    "plt.scatter(x,count_rate, marker='.',color = \"black\", edgecolors =\"black\", linewidth = 1,label = \"Data\",zorder = 3)\n",
    "\n",
    "plt.errorbar(x, count_rate, yerr = count_rate_err, ecolor = \"r\", fmt='none', label = \"Error\", zorder=2)\n",
    "\n",
    "plt.xlabel('x')\n",
    "\n",
    "plt.ylabel('ln(I)')\n",
    "\n",
    "plt.title(\"ln(I) vs. X\")\n",
    "\n",
    "plt.legend()#loc='upper left'\n",
    "\n",
    "plt.savefig(\"ln(I)_vs._x.pdf\")"
   ]
  },
  {
   "cell_type": "code",
   "execution_count": 177,
   "metadata": {
    "collapsed": false
   },
   "outputs": [
    {
     "name": "stdout",
     "output_type": "stream",
     "text": [
      "32.7812295536\n"
     ]
    }
   ],
   "source": [
    "def chisqg(count_rate,ln_I,count_rate_err):  \n",
    "    chisq=np.sum( ((count_rate-ln_I)/count_rate_err)**2 )  \n",
    "    return chisq\n",
    "\n",
    "print chisqg(count_rate_background,ln_I,count_rate_err)\n",
    "\n",
    "# v = 7\n",
    "# p-Value = 0.00006643"
   ]
  },
  {
   "cell_type": "code",
   "execution_count": 173,
   "metadata": {
    "collapsed": false
   },
   "outputs": [],
   "source": [
    "Photon_Energy = array([.1022,.1277,.1703,.2554,.3405,.4086,.5108,.6811,1.022,\n",
    "                       1.362,2.043,4.086,5.108,10.22,15.32,25.54])\n",
    "\n",
    "Photon_Energy = array([.4086,.5108,.6811,1.022,1.362,2.043])\n",
    "\n",
    "Absorbtion_Coeff = array([59.9,33.6,16.4,6.31,3.39,2.42,1.68,1.16,.771,.620,.499,.469,.491\n",
    "                       ,.607,.698,.835])\n",
    "\n",
    "Absorbtion_Coeff = array([2.42,1.68,1.16,.771,.620,.499])"
   ]
  },
  {
   "cell_type": "code",
   "execution_count": 178,
   "metadata": {
    "collapsed": false
   },
   "outputs": [
    {
     "data": {
      "image/png": "[encoded data removed]",
      "text/plain": [
       "<matplotlib.figure.Figure at 0x1203ca410>"
      ]
     },
     "metadata": {},
     "output_type": "display_data"
    }
   ],
   "source": [
    "#plt.plot(Absorbtion_Coeff,Photon_Energy,'.b--', linewidth = '.5')\n",
    "plt.scatter(Absorbtion_Coeff,Photon_Energy,color = 'b',marker = 'o',label = \"$Manual \\ \\mu$\", s = 40)\n",
    "plt.scatter(slope,.662,color = 'r',marker = 'o',label = \"$Experimental \\ \\mu$\",s = 40,zorder=3)\n",
    "\n",
    "plt.xlabel('Absorbtion Coeff')\n",
    "\n",
    "plt.ylabel('Photon Energy')\n",
    "\n",
    "plt.title(\"Absorbtion Coefficient vs. Photon Energy\")\n",
    "\n",
    "plt.legend()\n",
    "\n",
    "plt.savefig(\"Absorbtion_CoeffvsPhoton_Energy.pdf\")"
   ]
  },
  {
   "cell_type": "code",
   "execution_count": 7,
   "metadata": {
    "collapsed": false
   },
   "outputs": [
    {
     "data": {
      "text/plain": [
       "<matplotlib.collections.PathCollection at 0x1153f49d0>"
      ]
     },
     "execution_count": 7,
     "metadata": {},
     "output_type": "execute_result"
    },
    {
     "data": {
      "image/png": "[encoded data removed]",
      "text/plain": [
       "<matplotlib.figure.Figure at 0x1127af110>"
      ]
     },
     "metadata": {},
     "output_type": "display_data"
    }
   ],
   "source": [
    "Tau = array([1.50E-3,8.66E-4,4.04E-6])\n",
    "V_o = array([6.36E-1,1.60,1.30])\n",
    "\n",
    "plt.scatter(V_o,Tau)"
   ]
  },
  {
   "cell_type": "code",
   "execution_count": 182,
   "metadata": {
    "collapsed": false
   },
   "outputs": [],
   "source": [
    "m = array([0,1,2,3,4,5,6,7,8,9,10,11,12,13,14])\n",
    "\n",
    "f_m = array([0,0,0,1,6,13,15,11,19,12,7,4,4,5,2])\n",
    "\n",
    "p_m = array([0,0.00328, 0.01275, 0.03301, 0.06412, 0.09965, 0.12904, 0.14323,\n",
    "              0.13912, 0.12010, 0.09332, 0.06592, 0.04268, 0.02551, 0.01416])\n",
    "\n",
    "upper_error = array([0,0,0,3,1,2.5,2.5,4,4,1,2.5,3,1,3,1])\n",
    "lower_error = array([0,0,0,.5,1,3,4,4,5.5,1.5,3,2,1,3,1])\n",
    "asymmetric_error = [lower_error, upper_error]\n",
    "\n",
    "yerr = array([0,0,0,2.79,2.79,2.79,2.79,2.79,2.79,2.79,2.79,2.79,2.79,2.79,2.79])"
   ]
  },
  {
   "cell_type": "code",
   "execution_count": 183,
   "metadata": {
    "collapsed": false
   },
   "outputs": [
    {
     "data": {
      "image/png": "[encoded data removed]",
      "text/plain": [
       "<matplotlib.figure.Figure at 0x11fdadb50>"
      ]
     },
     "metadata": {},
     "output_type": "display_data"
    }
   ],
   "source": [
    "xlim(0,15)\n",
    "ylim(0,25)\n",
    "plt.bar(m, f_m, align = 'center',fill=False, hatch = '//', label = \"Frequency\", zorder=1)\n",
    "plot(m, 100*p_m , color ='b', linewidth = 2, label = \"Fit\", zorder=2)\n",
    "plt.errorbar(m, f_m,yerr, ecolor = \"r\",fmt='none', label = \"Error\", zorder=2)\n",
    "\n",
    "plt.xlabel('m')\n",
    "\n",
    "plt.ylabel('F(m)')\n",
    "\n",
    "plt.legend()\n",
    "\n",
    "plt.title(\"Frequency and Poisson Distribution\")\n",
    "\n",
    "\n",
    "plt.savefig(\"Frequencyvsm.pdf\")"
   ]
  },
  {
   "cell_type": "markdown",
   "metadata": {
    "collapsed": false
   },
   "source": [
    "## m = array([0,1,2,3,4,5,6,7,8,9,10,11,12,13,14])\n",
    "\n",
    "f_m = array([0,0,0,2,6,13,15,11,19,12,7,4,4,5,2])\n",
    "\n",
    "p_m = array([.00042,.00328,.01275,0.03301, 0.06412, 0.09965, 0.12904, 0.14323,\n",
    "              0.13912, 0.12010, 0.09332, 0.06592, 0.04268, 0.02551, 0.01416])\n",
    "\n",
    "f_exp = array([0,0,0,0,0,0,0,0,0,0,100,0,0,0,0])\n",
    "\n",
    "f_both = array([[3,2],[4,6],[5,13],[6,15],[7,11],[8,19],[9,12],[10,7],[11,4]\n",
    "              ,[12,4],[13,5],[14,2]])\n",
    "\n",
    "lam = 7.77\n",
    "\n",
    "x = chisquare(p_m,ddof = 13)\n",
    "print x\n"
   ]
  },
  {
   "cell_type": "code",
   "execution_count": 11,
   "metadata": {
    "collapsed": false
   },
   "outputs": [
    {
     "data": {
      "text/plain": [
       "7.3393203558718865"
      ]
     },
     "execution_count": 11,
     "metadata": {},
     "output_type": "execute_result"
    }
   ],
   "source": [
    "0.5645631042978374*13"
   ]
  },
  {
   "cell_type": "code",
   "execution_count": 12,
   "metadata": {
    "collapsed": false
   },
   "outputs": [
    {
     "data": {
      "text/plain": [
       "Power_divergenceResult(statistic=0.5645631042978374, pvalue=0.99999997785421568)"
      ]
     },
     "execution_count": 12,
     "metadata": {},
     "output_type": "execute_result"
    }
   ],
   "source": [
    "power_divergence(p_m)"
   ]
  },
  {
   "cell_type": "code",
   "execution_count": 13,
   "metadata": {
    "collapsed": false
   },
   "outputs": [
    {
     "name": "stdout",
     "output_type": "stream",
     "text": [
      "Power_divergenceResult(statistic=0.28973556389581995, pvalue=0.59039003697382075)\n"
     ]
    }
   ],
   "source": [
    "x = array([10, 10,  7,  6,  9,  4,  6,  8, 10, 14,  9,  6,  6,  6,  6,  6,  6,  6,  8, 11,  6,  7, 13,  8,  6,\n",
    "            7,  8,  5, 13,  9,  3,  7, 10,  9, 12,  8,  9,  8,  4, 13,  5, 10,  5,  5,  5,  9,  7,  8,  4,  7,\n",
    "            4,  8,  5, 12, 13,  5,  6,  7,  8,  9,  9,  6,  7, 10,  8, 11, 11,  8,  5,  5, 11,  4, 14, 12, 13,\n",
    "            8,  8,  5,  8,  9,  8,  6,  5,  8,  9,  9,  5,  5,  7,  7,  9, 10,  8,  3,  6,  8, 12,  7,  8,  4])\n",
    "\n",
    "m = array([3,4,5,6,7,8,9,10,11,12,13,14])\n",
    "\n",
    "f_m = array([2,6,13,15,11,19,12,7,4,4,5,2])\n",
    "\n",
    "p_m = array([0.03301, 0.06412, 0.09965, 0.12904, 0.14323,\n",
    "              0.13912, 0.12010, 0.09332, 0.06592, 0.04268, 0.02551, 0.01416])\n",
    "\n",
    "lam = 7.77\n",
    "\n",
    "x = chisquare(p_m,ddof = 10)\n",
    "print x\n"
   ]
  },
  {
   "cell_type": "code",
   "execution_count": 14,
   "metadata": {
    "collapsed": false
   },
   "outputs": [
    {
     "name": "stdout",
     "output_type": "stream",
     "text": [
      "0.440062800435\n"
     ]
    }
   ],
   "source": [
    "f = array([8,7,13,17,15,7,13,6,9,5])\n",
    "\n",
    "xp_m = array([7.5,8.6,12.3,14.6,14.9,13.3,10.5,7.5,4.9,5.3])\n",
    "\n",
    "p = array([.075,.086,.123,.146,.149,.133,.105,.075,.049,.053])\n",
    "\n",
    "lam = mean(x)\n",
    "print lam"
   ]
  },
  {
   "cell_type": "code",
   "execution_count": 30,
   "metadata": {
    "collapsed": false
   },
   "outputs": [],
   "source": [
    "Amplitude = array([0, 96, 136, 224, 288, 392, 464, 576, 664, 792, 928, 1040, 1160, 1460])\n",
    "\n",
    "GM_Volt = array([620, 640, 660, 680, 700, 720, 740, 760, 780, 800, 820, 840, 860, 880])\n"
   ]
  },
  {
   "cell_type": "code",
   "execution_count": 32,
   "metadata": {
    "collapsed": false
   },
   "outputs": [
    {
     "data": {
      "image/png": "[encoded data removed]",
      "text/plain": [
       "<matplotlib.figure.Figure at 0x1161e13d0>"
      ]
     },
     "metadata": {},
     "output_type": "display_data"
    }
   ],
   "source": [
    "plot(GM_Volt,Amplitude,'ob-')\n",
    "\n",
    "plt.xlabel('GM Voltage')\n",
    "\n",
    "plt.ylabel('Pulse Amplitude')\n",
    "\n",
    "plt.title(\"Pulse Amplitude vs. GM Voltage\")\n",
    "\n",
    "plt.savefig(\"Pulse_amplitudevsGM_voltage.pdf\")"
   ]
  },
  {
   "cell_type": "code",
   "execution_count": 184,
   "metadata": {
    "collapsed": false
   },
   "outputs": [
    {
     "data": {
      "image/png": "[encoded data removed]",
      "text/plain": [
       "<matplotlib.figure.Figure at 0x1200d9c50>"
      ]
     },
     "metadata": {},
     "output_type": "display_data"
    }
   ],
   "source": [
    "Count_Rate = array([0,.133,122.2, 125.167, 131.233, 135.2, 136.233, 140.067, 144.133])\n",
    "\n",
    "GM_Volt = array([720,740,760, 780, 800, 820, 840, 860, 880])\n",
    "\n",
    "\n",
    "plot(GM_Volt,Count_Rate,'ob-')\n",
    "#plot(GM_Volt[17:],Count_Rate[17:],'ob-')\n",
    "#plot(GM_Volt[:17],Count_Rate[:17],'ob-')\n",
    "\n",
    "#plt.yscale(\"linear\")\n",
    "\n",
    "plt.xlabel('GM Voltage')\n",
    "\n",
    "plt.ylabel('Count Rate')\n",
    "\n",
    "plt.title(\"Count Rate vs. GM Voltage\")\n",
    "\n",
    "xlim(700,900)\n",
    "ylim(0,160)\n",
    "\n",
    "plt.savefig(\"count_ratevsGM_voltage.pdf\")"
   ]
  },
  {
   "cell_type": "code",
   "execution_count": null,
   "metadata": {
    "collapsed": false
   },
   "outputs": [],
   "source": [
    "25-7"
   ]
  },
  {
   "cell_type": "code",
   "execution_count": null,
   "metadata": {
    "collapsed": true
   },
   "outputs": [],
   "source": []
  }
 ],
 "metadata": {
  "kernelspec": {
   "display_name": "Python 2",
   "language": "python",
   "name": "python2"
  },
  "language_info": {
   "codemirror_mode": {
    "name": "ipython",
    "version": 2
   },
   "file_extension": ".py",
   "mimetype": "text/x-python",
   "name": "python",
   "nbconvert_exporter": "python",
   "pygments_lexer": "ipython2",
   "version": "2.7.13"
  }
 },
 "nbformat": 4,
 "nbformat_minor": 0
}
