{
 "cells": [
  {
   "cell_type": "markdown",
   "metadata": {},
   "source": [
    "# Intro to Scientific Computing\n",
    "\n",
    "## Project 1\n",
    "\n",
    "",
    "\n",
    "DATE: May 27, 2016\n",
    "\n",
    "### Assignment Description for Projects:\n",
    "\n",
    "In the last portion of this class we'll have two \"project\" assignments. These are like your homework assignments in that you'll work on python codes within the notebook. They're a little different in their goal. I will start you off with some concrete steps and then suggest options for extension. I would like you, in your groups, to decide which of these to pursue, to document your intentions and your work, and to show your results. \n",
    "\n",
    "To make this more concrete, these assignments are programming versions of your lab reports in other classes:\n",
    "\n",
    "*B*-level work on a project would sucessfully impliment all of the main parts of question 1 -- like on a homework assignment.\n",
    "\n",
    "*A*-level work would involve a more in-depth exploration of one of the pathways for extension, would describe the motivation and results in detail (in markdown cells) and would show a plot/summary of the findings. "
   ]
  },
  {
   "cell_type": "code",
   "execution_count": 40,
   "metadata": {},
   "outputs": [],
   "source": [
    "from numpy import *\n",
    "import numpy as np\n",
    "from matplotlib.pyplot import *\n",
    "%matplotlib inline\n",
    "from astropy.table import Table\n"
   ]
  },
  {
   "cell_type": "markdown",
   "metadata": {},
   "source": [
    "# Simulating Gravitational Dynamics with Ordinary Differential Equations\n",
    "\n",
    "\n",
    "## 1) Orbital motion in the solar system\n",
    "\n",
    "Lets set up the expressions for the orbital motion of a planet in our solar system.  Planets orbit under the gravitational influence of the sun, in vector form, we can write this down as\n",
    "\n",
    "$\\Large \\vec{a} = -\\frac{G M_\\odot}{r^3}\\vec{r}$ \n",
    "\n",
    "The first step to break this down is to re-write the acceleration:\n",
    "\n",
    "$\\Large \\vec{a} = \\frac{d^2 \\vec{r} }{d t^2}$\n",
    "\n",
    "In other words, it's the second derivative of the position $\\vec{r}$.  So we can re-write our equation as \n",
    "\n",
    "$\\Large \\frac{d^2 \\vec{r} }{d t^2} = -\\frac{G M_\\odot}{r^3}\\vec{r}$\n",
    "\n",
    "In order to solve this 2nd order differential equation numerically, we need to re-write it as two first order equations. \n",
    "\n",
    "$\\Large \\frac{d \\vec{r}}{dt} = \\vec{v}$\n",
    "\n",
    "$\\Large \\frac{d \\vec{v}}{dt} = -\\frac{G M_\\odot}{r^3}\\vec{r}$\n",
    "\n",
    "BUT, there are still vectors, what do we do with those?!\n",
    "The idea is that $\\vec{r} = (x,y)$ and $\\vec{v} = (v_x,v_y)$.  So really, we have four equations for each of these components of the vectors:\n",
    "\n",
    "$\\Large \\frac{d x}{dt} = v_x$\n",
    "\n",
    "$\\Large \\frac{d y}{dt} = v_y$\n",
    "\n",
    "$\\Large \\frac{d v_x}{dt} = -\\frac{G M_\\odot}{r^3} x$\n",
    "\n",
    "$\\Large \\frac{d v_y}{dt} = -\\frac{G M_\\odot}{r^3} y$\n",
    "\n",
    "In the cells below, lets try to assemble the 'derivs' function for this set of coupled first-order differential equations.\n",
    "\n",
    "### a) Plotting Orbits \n",
    "\n",
    "Go back to your work on HW 2 (you can also compare to the solution set on ecommons) and remind yourself of the formulae for the minimum and maximum distance to a planet. Re-create the plot of the orbit of planet 9 in this notebook. We'll want to plot your numerical version on top of it. \n",
    "\n",
    "\n",
    "\n",
    "### b) Derivs Function\n",
    "\n",
    "Define a derivatives function based on the expressions above. There should be 4 variables $(x,y,v_x,v_y)$ and four corresponding derivatives. Define $G=6.67\\times10^{-8}$ cm$^3$ g$^{-1}$ s$^{-2}$ , $M_\\odot=1.989\\times10^{33}$ grams as constants inside your function.  "
   ]
  },
  {
   "cell_type": "code",
   "execution_count": 62,
   "metadata": {},
   "outputs": [
    {
     "data": {
      "text/plain": [
       "<matplotlib.text.Text at 0x118353a90>"
      ]
     },
     "execution_count": 62,
     "metadata": {},
     "output_type": "execute_result"
    },
    {
     "data": {
      "image/png": "[encoded data removed]",
      "text/plain": [
       "<matplotlib.figure.Figure at 0x116c3ec10>"
      ]
     },
     "metadata": {},
     "output_type": "display_data"
    }
   ],
   "source": [
    "f = linspace(0.,2.*pi,1000.)\n",
    "def planet_r(f,a,e):\n",
    "    r = ( a * ( 1. -e**2 )) / (1. + e * cos(f) )\n",
    "    return r\n",
    "\n",
    "xpos = planet_r(f,1.19e16,0.75)*cos(f) #planet r we will compare to our numerical version\n",
    "ypos = planet_r(f,1.19e16,0.75)*sin(f)\n",
    "\n",
    "axis('equal')\n",
    "\n",
    "plot (xpos,ypos)\n",
    "xlabel(\"x\")\n",
    "ylabel(\"y\")"
   ]
  },
  {
   "cell_type": "code",
   "execution_count": 11,
   "metadata": {
    "collapsed": true
   },
   "outputs": [],
   "source": [
    "# Dedfined constants\n",
    "    G = 6.67e-8\n",
    "    M = 1.989e33\n",
    "\n",
    "def orbital_derivs(vec):   \n",
    "    \n",
    "    x = vec[0]\n",
    "    y = vec[1]\n",
    "    vx = vec[2]\n",
    "    vy = vec[3]\n",
    "    \n",
    "    #total velocity magnitude\n",
    "    v = sqrt(vx**2 + vy**2)\n",
    "    r = sqrt(x**2 + y**2)\n",
    "    \n",
    "    dxdt = vx\n",
    "    dydt = vy\n",
    "    dvxdt = (((-G * M))/(r**3))*x\n",
    "    dvydt = (((-G * M))/(r**3))*y\n",
    "    \n",
    "    derivarray =  array([dxdt,dydt,dvxdt,dvydt])\n",
    "    \n",
    "    return derivarray"
   ]
  },
  {
   "cell_type": "code",
   "execution_count": 63,
   "metadata": {
    "scrolled": true
   },
   "outputs": [
    {
     "name": "stdout",
     "output_type": "stream",
     "text": [
      "        x                 y               vx             vy            t       \n",
      "----------------- ----------------- -------------- ------------- --------------\n",
      "       2.0825e+16               0.0            0.0 39907.8019072            0.0\n",
      "2.08248628215e+16 3.77936840101e+13 -289.703780317 39907.5390251  947027027.027\n",
      "2.08244512839e+16 7.55868701011e+13 -579.412331562 39906.7503592  1894054054.05\n",
      "2.08237653802e+16 1.13379060316e+14  -869.13042508 39905.4358495  2841081081.08\n",
      "2.08228050994e+16 1.51169756624e+14 -1158.86283305 39903.5953965  3788108108.11\n",
      "2.08215704254e+16 1.88958460877e+14 -1448.61432892 39901.2288607  4735135135.14\n",
      " 2.0820061338e+16 2.26744674781e+14 -1738.38968778 39898.3360629  5682162162.16\n",
      "2.08182778123e+16  2.6452789985e+14 -2028.19368685 39894.9167836  6629189189.19\n",
      " 2.0816219819e+16 3.02307637373e+14 -2318.03110582 39890.9707638  7576216216.22\n",
      " 2.0813887324e+16 3.40083388372e+14 -2607.90672735  39886.497704  8523243243.24\n",
      "              ...               ...            ...           ...            ...\n",
      "1.20653106189e+16 7.59210739286e+15 -85016.8281826 15384.8552389 936609729730.0\n",
      "1.19845491023e+16 7.60652058515e+15  -85541.699138 15053.1530327 937556756757.0\n",
      "1.19032890061e+16 7.62061732619e+15 -86069.7717897 14716.5336231 938503783784.0\n",
      "1.18215272774e+16 7.63439291044e+15 -86601.0905461 14374.8934767 939450810811.0\n",
      "1.17392608206e+16 7.64784253294e+15  -87135.700524 14028.1260429 940397837838.0\n",
      "1.16564864971e+16 7.66096128631e+15 -87673.6475584 13676.1216436 941344864865.0\n",
      "1.15732011249e+16  7.6737441578e+15 -88214.9782111  13318.767358 942291891892.0\n",
      " 1.1489401477e+16 7.68618602613e+15 -88759.7397792 12955.9469021 943238918919.0\n",
      "1.14050842817e+16 7.69828165825e+15 -89307.9803038 12587.5405032 944185945946.0\n",
      "1.13202462212e+16   7.710025706e+15 -89859.7485773 12213.4247682 945132972973.0\n",
      "1.12348839313e+16 7.72141270257e+15 -90415.0941511 11833.4725464 946080000000.0\n",
      "Length = 1000 rows\n"
     ]
    },
    {
     "data": {
      "text/plain": [
       "<matplotlib.text.Text at 0x119ba6590>"
      ]
     },
     "execution_count": 63,
     "metadata": {},
     "output_type": "execute_result"
    },
    {
     "data": {
      "image/png": "[encoded data removed]",
      "text/plain": [
       "<matplotlib.figure.Figure at 0x119b87650>"
      ]
     },
     "metadata": {},
     "output_type": "display_data"
    }
   ],
   "source": [
    "nsteps = 1000 # we tried 100, 300, then 1000\n",
    "# How many are needed to generate an orbit to match analytic plot\n",
    "\n",
    "G = 6.67e-8\n",
    "M = 1.989e33\n",
    "a = 1.19e16\n",
    "e = 0.75\n",
    "rmax = (a*(1. + e))\n",
    "vy = sqrt(G*M*((2/rmax)-(1/a)))\n",
    "\n",
    "x0 = rmax\n",
    "y0 = 0.0\n",
    "vx0 = 0.0\n",
    "vy0 = vy \n",
    "\n",
    "#specify initial values\n",
    "initialvalues = array([x0,y0,vx0,vy0])\n",
    "\n",
    "#specify a set of times to find the solution\n",
    "times = linspace(0,9.4608e11,nsteps)\n",
    "\n",
    "#time increment, dt\n",
    "dt = times[1]-times[0]\n",
    "\n",
    "#blank 2D array to fill with our solution\n",
    "result = zeros( (len(times), len(initialvalues) ) )\n",
    "\n",
    "pos_array = initialvalues.copy()\n",
    "for i,t in enumerate(times):\n",
    "    \n",
    "    #first fill the result array\n",
    "    result[i]  = pos_array\n",
    "     \n",
    "    #advance using runge kitta \n",
    "    k1 = dt*orbital_derivs(pos_array)\n",
    "    k2 = dt*orbital_derivs(pos_array + k1/2.0)\n",
    "    k3 = dt*orbital_derivs(pos_array + k2/2.0)\n",
    "    k4 = dt*orbital_derivs(pos_array + k3)\n",
    "    \n",
    "    pos_array += k1/6. + k2/3. + k3/3. + k4/6.\n",
    "    \n",
    "#converts the solution into a table so we can see column names\n",
    "colums = ['x','y','vx','vy']\n",
    "sol = Table(result,names=colums)\n",
    "\n",
    "#add times column\n",
    "sol['t'] = times\n",
    "\n",
    "print sol \n",
    "\n",
    "#plots our numerical solution\n",
    "plot(sol['x'],sol['y'])\n",
    "plot (xpos,ypos)\n",
    "\n",
    "axis('equal')\n",
    "\n",
    "xlabel(\"x\")\n",
    "ylabel(\"y\")"
   ]
  },
  {
   "cell_type": "code",
   "execution_count": null,
   "metadata": {
    "collapsed": true
   },
   "outputs": [],
   "source": []
  },
  {
   "cell_type": "markdown",
   "metadata": {},
   "source": [
    "### c) Setup and Integrate\n",
    "\n",
    "Using the 4th Order Runge Kutta approach we built in class, integrate the orbit of our hypothetical \"planet 9\" over at least one orbit. **MAKE A PLOT (with points) showing your result compared to the analytic version. ** \n",
    "- Integrate from $t=0$ to $t=30,000$ years (convert this to seconds). \n",
    "- Define initial conditions at the point of maximum distance from the sun, in the $-x$ direction (see HW 2). Remember that we used $a = 800$ AU $= 1.19\\times 10^{16}$ cm and eccentricity $e=0.75$. Use those same parameters here. \n",
    "$$\n",
    "r_{\\rm max} = a(1+e)\n",
    "$$\n",
    "\n",
    "- The velocity at this point will all be directed in the $+y$-direction, with magnitude \n",
    "$$\n",
    "v_y = \\sqrt{G M_\\odot \\left( {2 \\over r_{\\rm max}} - {1 \\over a} \\right) }.\n",
    "$$\n",
    "\n",
    "- Try taking 100 steps, then 300, then 1000. How many are needed to generate an orbit that matches your analytic plot? \n",
    "\n",
    "#### Hint: A Strategy\n",
    "\n",
    "In order to complete this problem, cut and past the soccer ball code we worked with in class. \n",
    "\n",
    "- Replace all calls to the derivatives function with your new planetary-motion derivatives. \n",
    "\n",
    "- Change the initial conditions to be consistent with the position and velocity of planet 9 at the far point in its orbit. \n",
    "\n",
    "- Change the total time span (in the times array) to include enough total time for the planet to complete its orbit (in seconds). \n",
    "\n",
    "### d) Describe your results\n",
    "\n",
    "Make a markdown cell and use it to describe the results of your work. Some topics you could touch on include: How did you modify the code to get it to work? How many integration steps are needed to obtain a good result? What does the orbit look like when the integration goes poorly? When it goes well? How can we evaluate the results of numerical integration?"
   ]
  },
  {
   "cell_type": "markdown",
   "metadata": {
    "collapsed": true
   },
   "source": [
    "Throughout the course, we have developed various techniques we applied to this project. As early as Homework #2 we explored the orbit using \"Planet 9.\" We showed the planet's orbit under the gravitational influence of the sun and broke up the 2nd order differential equation as two first order equations. This allowed us to further break them up into components. We then used the \"deriv\" function, closely comparing it to our class notes (19-20) for the projectile motion with drag: soccer ball. We changed the values to the appropriate velocity magnitudes and adjusted the derivatives. Using these parameters, we set up the expressions for the orbital motion of a planet. We assumed a circular orbit \n",
    "\n",
    "for the planet and used the Runge Kutta approach. We compared the plot of the orbit of the planet we found analytically to the numerical version.  At first, we tried 100 integration steps, then 300 steps, then 1000 steps. The best results were given by 1000 integration steps. This is because when there is not sufficient data, the integration is not as precise as it could be with more steps. "
   ]
  },
  {
   "cell_type": "code",
   "execution_count": null,
   "metadata": {
    "collapsed": true
   },
   "outputs": [],
   "source": [
    "\n"
   ]
  },
  {
   "cell_type": "code",
   "execution_count": null,
   "metadata": {
    "collapsed": true
   },
   "outputs": [],
   "source": []
  },
  {
   "cell_type": "code",
   "execution_count": null,
   "metadata": {
    "collapsed": true
   },
   "outputs": [],
   "source": []
  },
  {
   "cell_type": "code",
   "execution_count": null,
   "metadata": {
    "collapsed": true
   },
   "outputs": [],
   "source": []
  },
  {
   "cell_type": "code",
   "execution_count": null,
   "metadata": {
    "collapsed": true
   },
   "outputs": [],
   "source": []
  },
  {
   "cell_type": "markdown",
   "metadata": {},
   "source": [
    "# Ideas For Extension \n",
    "\n",
    "Either pick and pursue one of these ideas for extension or discuss your own idea to build on what we have above with me. \n",
    "\n",
    "\n",
    "\n",
    "## 2 a) Red Dwarf Falls through the Solar System\n",
    "\n",
    "For our second problem, construct a simulation of a Red Dwarf passing through the solar system. The simulation should have the following characteristics:\n",
    "\n",
    "(0) Assume that the 0.1 solar mass Red Dwarf enters the solar system at a distance x=5AU, y=1AU, vx=-15km/s, vy=0km/s relative to the Sun. Assume that the Earth is on its current (assumed circular) orbit around the Sun. Neglect everything else in the solar system. \n",
    "- Setup an integration of Earth's orbital motion around the sun by modifying the initial conditions of the planet 9 expressions from #1 to be relevant to earth. \n",
    "\n",
    "(1) Modify the \"derivs\" function to account for the gravitational attractions from both the Sun and the Red Dwarf. The Sun attracts the Red Dwarf and the Earth, and the Red Dwarf attracts the Sun and the Earth. Neglect the Earth's pull on the Sun and the Red Dwarf. This implies a system of 12 variables, with dervatives that account for the relative distances between objects. Why? \n",
    "\n",
    "- add each of the variables (12 variables in, 12 derivatives out), but start by setting many derivatives (like the position and velocity of the sun and the red-dwarf) equal to zero. Work toward your full expressions one-by-one so that you can catch your mistakes. \n",
    "\n",
    "(2) Integrate the motion for 10 years.\n",
    "\n",
    "\n",
    "\n",
    "(3) Make a plot (with equal axis ratio) that shows the motion of all three bodies. After 10 years, is the orbital energy of the Earth positive or negative?\n",
    "\n",
    "## 2 b) Rocket/Spaceship Motion in the Solar System\n",
    "\n",
    "Imagine launching a rocket or spaceship from Earth's orbit out into the solar system (ignore the stage of escaping from earth's surface). The equations of motion for a rocket out in the solar system are modified by the thrust from the rocket fuel which is shot out the back of the rocket.\n",
    "\n",
    "$$\n",
    "\\large\n",
    "\\vec{F}_{\\rm thrust} = \\vec{u} {dm \\over dt}\n",
    "$$\n",
    "where $u$ is the velocity that material is shot from the rocket, and $dm/dt$ is the mass-loss rate of buring through fuel (which is what is combusted and ejected out of the burners). \n",
    "\n",
    "This implies an acceleration \n",
    "$$\n",
    "\\large\n",
    "\\vec{a}_{\\rm thrust} = { \\vec{u} \\over M_{\\rm rocket}} {dm \\over dt}\n",
    "$$\n",
    "\n",
    "Add this term to your derivatives function. (As a first step, don't work about the fact that your rocket is losing mass). \n",
    "\n",
    "\n",
    "Plot rocket trajectories under different assumptions of thrust parameters. What does the orbit look like if the thrust is aligned with the direction of motion:\n",
    "\n",
    "$$\n",
    "\\large\n",
    "a_{{\\rm thrust},x} = { u \\over M_{\\rm rocket}} {dm \\over dt} {v_x \\over v} \\\\\n",
    "\\large\n",
    "a_{{\\rm thrust},y} = { u  \\over M_{\\rm rocket}} {dm \\over dt}  {v_y \\over v}\n",
    "$$\n",
    "\n",
    "Or anti-aligned (?) -- add a minus sign to each of the above. \n",
    "\n",
    "#### A specific starting place:\n",
    "If the thrust effective velocity $u$ is 3e7 cm/s, what dmdt is needed to start to generate an appreciably different path for a 1e8 gram spaceship that starts 1 AU from the sun going 30km/s?\n",
    "\n",
    "#### A possible extension\n",
    "\n",
    "add the mass of the rocket as one of your integration variables. Decrease the rocket mass each step by dmdt * dt (make the derivative of constant -- (e.g. dmdt = - const)\n",
    "\n",
    "\n",
    "## 2 c)  Exploration of your own design\n",
    "\n",
    "Examine a problem in gravitational dynamics of your own choosing. If you want to do this, please check in with me by Monday, May 23. \n"
   ]
  },
  {
   "cell_type": "code",
   "execution_count": 64,
   "metadata": {},
   "outputs": [
    {
     "data": {
      "text/plain": [
       "<matplotlib.text.Text at 0x119bbc190>"
      ]
     },
     "execution_count": 64,
     "metadata": {},
     "output_type": "execute_result"
    },
    {
     "data": {
      "image/png": "[encoded data removed]",
      "text/plain": [
       "<matplotlib.figure.Figure at 0x116bf8490>"
      ]
     },
     "metadata": {},
     "output_type": "display_data"
    }
   ],
   "source": [
    "f = linspace(0.,2.*pi,1000.)\n",
    "def earth(f,a,e):\n",
    "    r = ( a * ( 1. -e**2 )) / (1. + e * cos(f) )\n",
    "    return r\n",
    "\n",
    "xpos = earth(f,1.0e9,0.0167086)*cos(f)\n",
    "ypos = earth(f,1.0e9,0.0167086)*sin(f)\n",
    "\n",
    "axis('equal')\n",
    "\n",
    "plot (xpos,ypos)\n",
    "xlabel(\"x\")\n",
    "ylabel(\"y\")"
   ]
  },
  {
   "cell_type": "code",
   "execution_count": 65,
   "metadata": {},
   "outputs": [
    {
     "name": "stdout",
     "output_type": "stream",
     "text": [
      "        x                 y         ...        vye              t      \n",
      "----------------- ----------------- ... ----------------- -------------\n",
      "         7.48e+13         1.496e+13 ... 1.42625965378e+13           0.0\n",
      "7.47527027016e+13 1.49599999998e+13 ... 1.42625965378e+13 31531.5315315\n",
      " 7.4705405401e+13 1.49599999991e+13 ... 1.42625965378e+13 63063.0630631\n",
      "7.46581080981e+13  1.4959999998e+13 ... 1.42625965378e+13 94594.5945946\n",
      " 7.4610810793e+13 1.49599999964e+13 ... 1.42625965378e+13 126126.126126\n",
      "7.45635134857e+13 1.49599999944e+13 ... 1.42625965378e+13 157657.657658\n",
      "7.45162161761e+13  1.4959999992e+13 ... 1.42625965378e+13 189189.189189\n",
      "7.44689188643e+13 1.49599999891e+13 ... 1.42625965378e+13 220720.720721\n",
      "7.44216215503e+13 1.49599999857e+13 ... 1.42625965378e+13 252252.252252\n",
      " 7.4374324234e+13 1.49599999819e+13 ... 1.42625965378e+13 283783.783784\n",
      "              ...               ... ...               ...           ...\n",
      "2.80211237531e+13 1.49594668017e+13 ... 1.42625965378e+13 31184684.6847\n",
      "2.79738213292e+13 1.49594649648e+13 ... 1.42625965378e+13 31216216.2162\n",
      "2.79265188938e+13 1.49594631217e+13 ... 1.42625965378e+13 31247747.7477\n",
      "2.78792164468e+13 1.49594612724e+13 ... 1.42625965378e+13 31279279.2793\n",
      "2.78319139882e+13 1.49594594169e+13 ... 1.42625965378e+13 31310810.8108\n",
      "2.77846115179e+13 1.49594575552e+13 ... 1.42625965378e+13 31342342.3423\n",
      " 2.7737309036e+13 1.49594556871e+13 ... 1.42625965378e+13 31373873.8739\n",
      "2.76900065424e+13 1.49594538128e+13 ... 1.42625965378e+13 31405405.4054\n",
      "2.76427040371e+13 1.49594519321e+13 ... 1.42625965378e+13 31436936.9369\n",
      "2.75954015201e+13 1.49594500451e+13 ... 1.42625965378e+13 31468468.4685\n",
      "2.75480989913e+13 1.49594481517e+13 ... 1.42625965378e+13    31500000.0\n",
      "Length = 1000 rows\n"
     ]
    },
    {
     "data": {
      "text/plain": [
       "<matplotlib.text.Text at 0x119feee50>"
      ]
     },
     "execution_count": 65,
     "metadata": {},
     "output_type": "execute_result"
    },
    {
     "data": {
      "image/png": "[encoded data removed]",
      "text/plain": [
       "<matplotlib.figure.Figure at 0x116bf8550>"
      ]
     },
     "metadata": {},
     "output_type": "display_data"
    }
   ],
   "source": [
    "# More defined constants!\n",
    "G = 6.67e-8\n",
    "M = 1.989e33\n",
    "mass_d = .1*mass_s #dwarf is .1 solar mass\n",
    "mass_s = 1.988e30\n",
    "\n",
    "#setting up Euler's method\n",
    "def the_force(vec):\n",
    "    \n",
    "    #unpack our variables\n",
    "    xs = vec[0]\n",
    "    ys = vec[1]\n",
    "    vxs = vec[2]\n",
    "    vys = vec[3]\n",
    "    \n",
    "    xrd = vec[4]\n",
    "    yrd = vec[5]\n",
    "    vxrd = vec[6]\n",
    "    vyrd = vec[7]\n",
    "    \n",
    "    xe = vec[8]\n",
    "    ye = vec[9]\n",
    "    vxe = vec[10]\n",
    "    vye = vec[11]\n",
    "    \n",
    "    #relating radi to different positions (This is where we had the most problem. I believe that this is where our whole\n",
    "    #program went wrong becase we are not getting any error messages but the numbers in our graph are not changing)\n",
    "    rs = sqrt( (xrd+xs)**2 + (xrd+ys)**2 )\n",
    "    rrd = sqrt( (xrd+xs)**2 + (xrd+ys)**2 )\n",
    "    re1 = sqrt( (xs-xe)**2 + (ys-ye)**2 ) \n",
    "    re2 = sqrt( (xrd-xe)**2 + (yrd-ye)**2)\n",
    "    \n",
    "    #velocities/constucted derivatives \n",
    "    \n",
    "    #Sun\n",
    "    dxdts = vxs\n",
    "    dydts = vys\n",
    "    dvxdts = (-G*mass_d*(xs))/(rs**3)\n",
    "    dvydts = (-G*mass_d*(ys))/(rs**3)\n",
    "    \n",
    "    #Dwarf\n",
    "    dxdtd = vxrd\n",
    "    dydtd = vyrd\n",
    "    dvxdtd = (-G*mass_s*xrd)/(rrd**3)\n",
    "    dvydtd = (-G*mass_s*yrd)/(rrd**3)\n",
    "    \n",
    "    #earth\n",
    "    dxdte = vxe\n",
    "    dydte = vye\n",
    "    dvxdte = -G*((mass_s*xe/re1**3)+(mass_d*(xrd+xe)/re2**3))\n",
    "    dvydte = -G*((mass_s*ye/re1**3)+(mass_d*(yrd+ye)/re2**3))\n",
    "    \n",
    "    #putting all our derivatives into and array\n",
    "    #that can then be usable throught the rest of the code.\n",
    "    derivarray = array([dxdts,dydts,dvxdts,dvydts,dxdtd,dydtd,dvxdtd,dvydtd,dxdte,dydte,dvxdte,dvydte])\n",
    "    \n",
    "    return derivarray\n",
    "\n",
    "#number of time we want the code to be evaluated, used when using linspace.\n",
    "nstep = 1000\n",
    "\n",
    "#initial conditions\n",
    "xr0 = 7.48e13\n",
    "yr0 = 1.496e13\n",
    "vxr0 = -1.5e6\n",
    "vyr0 = 0\n",
    "\n",
    "xs0 = 0\n",
    "ys0 = 0 \n",
    "vxs0 = 0\n",
    "vys0 = 0\n",
    "\n",
    "xe0 = 1.5e13\n",
    "ye0 = 0\n",
    "vxe0 = 0\n",
    "vye0 = sqrt(G*M*((2/1.5e13)/(1/1.15e13)))\n",
    "\n",
    "\n",
    "initial_values = array([xr0,yr0,vxr0,vyr0,xs0,ys0,vxs0,vys0,xe0,ye0,vxe0,vye0])\n",
    "\n",
    "#this is where were tell our program how many times\n",
    "#to run over a certain value and then stop, as well \n",
    "#as the time incriment, dt.\n",
    "times = linspace(0,3.15e7,nstep) #integrate over ten years, in sec\n",
    "dt = times[1]-times[0]\n",
    "\n",
    "#this is our black array to fill our solution with.\n",
    "result = zeros((len(times),len(initial_values)))\n",
    "\n",
    "#incrementing through the times to advance the solution\n",
    "the_array = initial_values.copy()\n",
    "for i,t in enumerate(times):\n",
    "    \n",
    "    #filling in the result array\n",
    "    result[i] = the_array\n",
    "    \n",
    "    # advancing our solution..\n",
    "    k1 = dt*the_force(the_array)\n",
    "    k2 = dt*the_force(the_array + k1/2.0)\n",
    "    k3 = dt*the_force(the_array + k2/2.0)\n",
    "    k4 = dt*the_force(the_array + k3)\n",
    "    \n",
    "    the_array += k1/6. +k2/3. + k3/3. + k4/6.\n",
    "\n",
    "#putting our solution into a table\n",
    "colums = ['x','y','vx','vy','xs','ys','vxs','vys','xe','ye','vxe','vye']\n",
    "sol = Table(result,names=colums)\n",
    "\n",
    "sol['t'] = times\n",
    "\n",
    "print sol \n",
    "plot(sol['x'],sol['y'])\n",
    "#plot(sol['xs'],sol['ys'])\n",
    "#plot(sol['xe'],sol['ye'])\n",
    "xlabel(\"x\")\n",
    "ylabel(\"y\")"
   ]
  },
  {
   "cell_type": "markdown",
   "metadata": {},
   "source": [
    "For the second part of our project, we wanted to make a simulation for a red dwarf falling through the solar system. Given some initial values at which a red dwarf of 0.1 solar mass enters the solar system, we set up an integration of the Earth’s orbital motion around the sun. The sun, Earth, and red dwarf all have gravitational attractions. This system of twelve variables includes the positions and velocities components of the Sun, Earth, and red dwarf. We once again apply our Runge Kutta approach to integrate the motion over ten years. However, we ran into problems calculating our derivatives. We believe this has to do with a\n",
    "miscalculated radii. When running our Runge Kutta method we were able to complete the integration without any error messages, but our graph was not what we expected. We expected orbits moving relative to each other, but our plot returned straight lines.  \n"
   ]
  },
  {
   "cell_type": "code",
   "execution_count": null,
   "metadata": {
    "collapsed": true
   },
   "outputs": [],
   "source": []
  }
 ],
 "metadata": {
  "kernelspec": {
   "display_name": "Python 3",
   "language": "python",
   "name": "python3"
  },
  "language_info": {
   "codemirror_mode": {
    "name": "ipython",
    "version": 3
   },
   "file_extension": ".py",
   "mimetype": "text/x-python",
   "name": "python",
   "nbconvert_exporter": "python",
   "pygments_lexer": "ipython3",
   "version": "3.7.6"
  }
 },
 "nbformat": 4,
 "nbformat_minor": 1
}
