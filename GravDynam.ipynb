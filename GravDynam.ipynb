{
 "cells": [
  {
   "cell_type": "markdown",
   "metadata": {},
   "source": [
    "Zoë Weber\n",
    "\n",
    "May 27, 2016"
   ]
  },
  {
   "cell_type": "code",
   "execution_count": 7,
   "metadata": {},
   "outputs": [],
   "source": [
    "#Imports\n",
    "from numpy import *\n",
    "import numpy as np\n",
    "from matplotlib.pyplot import *\n",
    "import matplotlib.pyplot as plt\n",
    "%matplotlib inline\n",
    "from astropy.table import Table"
   ]
  },
  {
   "cell_type": "markdown",
   "metadata": {},
   "source": [
    "### b) orbital distance\n",
    "\n",
    "For an object in a Keplerian (eliptical) orbit, the gravitational two-body problem says\n",
    "\n",
    "$$\n",
    "r=\\frac{a(1-e^2)}{(1+e\\cos f)}.\n",
    "$$\n",
    "\n",
    "$r$ is the distance from the focus of an ellipse as a function of $f$\n",
    "\n",
    "$f$ is the true anomaly\n",
    "\n",
    "$a$ is the semi-major axis\n",
    "\n",
    "$e$ is the eccentricity"
   ]
  },
  {
   "cell_type": "code",
   "execution_count": 21,
   "metadata": {},
   "outputs": [
    {
     "data": {
      "image/png": "[encoded data removed]",
      "text/plain": [
       "<Figure size 432x288 with 1 Axes>"
      ]
     },
     "metadata": {
      "needs_background": "light"
     },
     "output_type": "display_data"
    }
   ],
   "source": [
    "#Full circle orbit (degrees)\n",
    "f = linspace(0,2*pi,1000)\n",
    "\n",
    "def planet_r(f,a,e):\n",
    "    r = ( a * ( 1.0 -e**2. )) / (1.0 + e * cos(f) )\n",
    "    return r\n",
    "\n",
    "#transforming orbital angle and distance to cartesian coordinates \n",
    "xpos = planet_r(f,1.19e16,0.75)*cos(f) #planet r we will compare to our numerical version\n",
    "ypos = planet_r(f,1.19e16,0.75)*sin(f)\n",
    "\n",
    "#Plots our numerical solution\n",
    "plt.plot(xpos,ypos)\n",
    "plt.axis('equal')\n",
    "plt.xlabel(\"x\")\n",
    "plt.ylabel(\"y\")\n",
    "\n",
    "plt.show()"
   ]
  },
  {
   "cell_type": "markdown",
   "metadata": {},
   "source": [
    "# Simulating Gravitational Dynamics with Ordinary Differential Equations\n",
    "\n",
    "\n",
    "## 1) Orbital motion in the solar system\n",
    "\n",
    "Planets orbit under the gravitational influence of the sun, in vector form this down is\n",
    "\n",
    "(1) $\\Large \\vec{a} = -\\frac{G M_\\odot}{r^3}\\vec{r}$ \n",
    "\n",
    "The first we break this down to re-write the acceleration\n",
    "\n",
    "(2) $\\Large \\vec{a} = \\frac{d^2 \\vec{r} }{d t^2}$\n",
    "\n",
    "Setting this equal to equation 1\n",
    "\n",
    "(3) $\\Large \\frac{d^2 \\vec{r} }{d t^2} = -\\frac{G M_\\odot}{r^3}\\vec{r}$\n",
    "\n",
    "To solve this 2nd order differential equation numerically, we re-write it as two first order equations. \n",
    "\n",
    "(4) $\\Large \\frac{d \\vec{r}}{dt} = \\vec{v}$\n",
    "\n",
    "(5) $\\Large \\frac{d \\vec{v}}{dt} = -\\frac{G M_\\odot}{r^3}\\vec{r}$\n",
    "\n",
    "Since $\\vec{r} = (x,y)$ and $\\vec{v} = (v_x,v_y)$, we can  rewrite equations 4 and 5 for each of the components of the vectors.\n",
    "\n",
    "(6) $\\Large \\frac{d x}{dt} = v_x$\n",
    "\n",
    "(7) $\\Large \\frac{d y}{dt} = v_y$\n",
    "\n",
    "(8) $\\Large \\frac{d v_x}{dt} = -\\frac{G M_\\odot}{r^3} x$\n",
    "\n",
    "(9) $\\Large \\frac{d v_y}{dt} = -\\frac{G M_\\odot}{r^3} y$\n",
    "\n",
    "For this code will make use of the equations above by creating a derivatives function. This function will contain four variables $(x,y,v_x,v_y)$ and their corresponding derivatives. Fianlly we will define define $G=6.67\\times10^{-8}$ cm$^3$ g$^{-1}$ s$^{-2}$ , $M_\\odot=1.989\\times10^{33}$ grams as constants inside the function."
   ]
  },
  {
   "cell_type": "code",
   "execution_count": 12,
   "metadata": {},
   "outputs": [],
   "source": [
    "# Dedfined constants\n",
    "G = 6.67e-8\n",
    "M = 1.989e33\n",
    "\n",
    "def orbital_derivs(vec):   \n",
    "    \n",
    "    x = vec[0]\n",
    "    y = vec[1]\n",
    "    vx = vec[2]\n",
    "    vy = vec[3]\n",
    "    \n",
    "    #total velocity magnitude\n",
    "    v = sqrt(vx**2 + vy**2)\n",
    "    r = sqrt(x**2 + y**2)\n",
    "    \n",
    "    dxdt = vx\n",
    "    dydt = vy\n",
    "    dvxdt = (((-G * M))/(r**3))*x\n",
    "    dvydt = (((-G * M))/(r**3))*y\n",
    "    \n",
    "    derivarray =  array([dxdt,dydt,dvxdt,dvydt])\n",
    "    \n",
    "    return derivarray"
   ]
  },
  {
   "cell_type": "markdown",
   "metadata": {},
   "source": [
    "### 4th Order Runge Kutta\n",
    "\n",
    "\n",
    "The 4th Order Runge Kutta uses 4 estimates, One on the left (starting point of the step), one on the right (ending point of the step), and two in the middle. We then take a weighted average of these to project across a step interval. The formula looks like this:\n",
    "\n",
    "$$\n",
    "\\large \n",
    "k_1 = h f \\left(t^n, \\ x_i^n \\right) \\\\\n",
    "\\large\n",
    "k_2 = h f \\left(t^n + {h\\over 2}, \\ x_i^n + {k_1 \\over 2} \\right) \\\\\n",
    "\\large\n",
    "k_3 = h f \\left(t^n + {h\\over 2}, \\ x_i^n + {k_2 \\over 2}\\right) \\\\\n",
    "\\large\n",
    "k_4 = h f \\left(t^n + h, \\ x_i^n + k_3 \\right) \\\\\n",
    "$$\n",
    "\n",
    "then,\n",
    "\n",
    "$$\n",
    "\\large\n",
    "x_i^{n+1}=x_i^n + {1 \\over 6}k_1 + {1 \\over 3}k_2 + {1 \\over 3}k_3 + {1 \\over 6}k_4\n",
    "$$\n",
    "\n",
    "\n",
    "Using the 4th Order Runge Kutta method we integrate the orbit of our hypothetical \"planet 9\" over at least one orbit so that we can compare this with our numerical orbit plotted above. To do so, we increase the the number of nsteps until our plots match."
   ]
  },
  {
   "cell_type": "code",
   "execution_count": 24,
   "metadata": {
    "scrolled": true
   },
   "outputs": [
    {
     "name": "stdout",
     "output_type": "stream",
     "text": [
      "          x                    y          ...         t        \n",
      "---------------------- ------------------ ... -----------------\n",
      "            2.0825e+16                0.0 ...               0.0\n",
      " 2.082486282153336e+16  37793684010078.74 ...  947027027.027027\n",
      "2.0824451283874356e+16   75586870101110.5 ... 1894054054.054054\n",
      "2.0823765380245544e+16 113379060316327.78 ... 2841081081.081081\n",
      "2.0822805099350524e+16 151169756623514.53 ... 3788108108.108108\n",
      " 2.082157042537295e+16  188958460877263.1 ... 4735135135.135135\n",
      "2.0820061337975144e+16 226744674781208.47 ... 5682162162.162162\n",
      " 2.081827781229631e+16 264527899850232.56 ... 6629189189.189189\n",
      "2.0816219818950364e+16  302307637372630.6 ... 7576216216.216216\n",
      "2.0813887324023344e+16  340083388372232.6 ... 8523243243.243243\n",
      "                   ...                ... ...               ...\n",
      " 1.206531061885505e+16 7592107392859860.0 ... 936609729729.7297\n",
      "1.1984549102267134e+16 7606520585154139.0 ... 937556756756.7567\n",
      " 1.190328900612927e+16 7620617326186512.0 ... 938503783783.7838\n",
      " 1.182152727737612e+16 7634392910441888.0 ... 939450810810.8108\n",
      "1.1739260820551722e+16 7647842532936063.0 ... 940397837837.8378\n",
      "1.1656486497133888e+16 7660961286306531.0 ... 941344864864.8649\n",
      "1.1573201124850032e+16 7673744157796487.0 ... 942291891891.8918\n",
      " 1.148940147698471e+16 7686186026127283.0 ...  943238918918.919\n",
      "1.1405084281679184e+16 7698281658254371.0 ... 944185945945.9459\n",
      "1.1320246221223376e+16 7710025706001506.0 ... 945132972972.9729\n",
      " 1.123488393134065e+16 7721412702567692.0 ...    946080000000.0\n",
      "Length = 1000 rows\n"
     ]
    },
    {
     "data": {
      "image/png": "[encoded data removed]",
      "text/plain": [
       "<Figure size 432x288 with 1 Axes>"
      ]
     },
     "metadata": {
      "needs_background": "light"
     },
     "output_type": "display_data"
    }
   ],
   "source": [
    "nsteps = 1000 # we tried 100, 300, then 1000\n",
    "# 1000 is the number of steps necessary to generate an orbit to match analytic plot\n",
    "\n",
    "G = 6.67e-8\n",
    "M = 1.989e33\n",
    "a = 1.19e16\n",
    "e = 0.75\n",
    "rmax = (a*(1. + e))\n",
    "vy = sqrt(G*M*((2/rmax)-(1/a)))\n",
    "\n",
    "x0 = rmax\n",
    "y0 = 0.0\n",
    "vx0 = 0.0\n",
    "vy0 = vy \n",
    "\n",
    "#initial values\n",
    "initialvalues = array([x0,y0,vx0,vy0])\n",
    "\n",
    "#the set of times to find the solution\n",
    "times = linspace(0,9.4608e11,nsteps)\n",
    "\n",
    "#time increment, dt\n",
    "dt = times[1]-times[0]\n",
    "\n",
    "#blank 2D array to fill with our solution\n",
    "result = zeros( (len(times), len(initialvalues) ) )\n",
    "\n",
    "pos_array = initialvalues.copy()\n",
    "for i,t in enumerate(times):\n",
    "    \n",
    "    #filling the result array\n",
    "    result[i]  = pos_array\n",
    "     \n",
    "    #advance using runge kitta \n",
    "    k1 = dt*orbital_derivs(pos_array)\n",
    "    k2 = dt*orbital_derivs(pos_array + k1/2.0)\n",
    "    k3 = dt*orbital_derivs(pos_array + k2/2.0)\n",
    "    k4 = dt*orbital_derivs(pos_array + k3)\n",
    "    \n",
    "    pos_array += k1/6. + k2/3. + k3/3. + k4/6.\n",
    "    \n",
    "#converts the solution into a table so we can see column names\n",
    "colums = ['x','y','vx','vy']\n",
    "sol = Table(result,names=colums)\n",
    "\n",
    "#add times column\n",
    "sol['t'] = times\n",
    "\n",
    "print(sol) \n",
    "\n",
    "#plots our numerical solution\n",
    "plt.plot(sol['x'],sol['y'])\n",
    "plt.plot(xpos,ypos)\n",
    "plt.axis('equal')\n",
    "plt.xlabel(\"x\")\n",
    "plt.ylabel(\"y\")\n",
    "plt.show()"
   ]
  },
  {
   "cell_type": "markdown",
   "metadata": {},
   "source": [
    "It was found that when integrating, a larger number of intervals created a numerical model that more accurately matched that of our analytical one. The reason being that creating a larger amount of steps reduces the size of local truncation errors.\n"
   ]
  }
 ],
 "metadata": {
  "kernelspec": {
   "display_name": "Python 3",
   "language": "python",
   "name": "python3"
  },
  "language_info": {
   "codemirror_mode": {
    "name": "ipython",
    "version": 3
   },
   "file_extension": ".py",
   "mimetype": "text/x-python",
   "name": "python",
   "nbconvert_exporter": "python",
   "pygments_lexer": "ipython3",
   "version": "3.7.6"
  }
 },
 "nbformat": 4,
 "nbformat_minor": 1
}
